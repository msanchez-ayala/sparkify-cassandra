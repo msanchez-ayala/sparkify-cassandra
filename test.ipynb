{
 "cells": [
  {
   "cell_type": "markdown",
   "metadata": {},
   "source": [
    "# Test\n",
    "A notebook for interactive validation of the data inserted into Cassandra. Will not work if the following have not been completed in this order:\n",
    "\n",
    "1. Run a Cassandra Docker Container (full instructions in the README)\n",
    "\n",
    "```\n",
    "docker run --name cassandra-container -p 127.0.0.1:9042:9042 -d cassandra\n",
    "```\n",
    "2. Run **create_tables.py**\n",
    "3. Run **etl.py**\n",
    "\n",
    "Close the cluster connection at the bottom of this notebook when done."
   ]
  },
  {
   "cell_type": "markdown",
   "metadata": {},
   "source": [
    "## Setup"
   ]
  },
  {
   "cell_type": "code",
   "execution_count": 1,
   "metadata": {},
   "outputs": [],
   "source": [
    "import pandas as pd\n",
    "from cassandra.cluster import Cluster\n",
    "from cql_queries import *"
   ]
  },
  {
   "cell_type": "code",
   "execution_count": 3,
   "metadata": {},
   "outputs": [],
   "source": [
    "# Create a connection to the cassandra docker container, set the keyspace\n",
    "cluster = Cluster(['127.0.0.1'], port=9042)\n",
    "session = cluster.connect()\n",
    "\n",
    "try:\n",
    "    session.set_keyspace('sparkify')\n",
    "except Exception as e:\n",
    "    print(e)\n",
    "    print('Did you run create_tables.py and etl.py prior to this?')"
   ]
  },
  {
   "cell_type": "markdown",
   "metadata": {},
   "source": [
    "## `song_info` Table\n",
    "\n",
    "**Query:** Give the artist, song title and song's length in the music app history that was heard during  sessionId = 338, and itemInSession  = 4"
   ]
  },
  {
   "cell_type": "code",
   "execution_count": 4,
   "metadata": {},
   "outputs": [
    {
     "name": "stdout",
     "output_type": "stream",
     "text": [
      "\n",
      "    SELECT\n",
      "      artist,\n",
      "      song,\n",
      "      length\n",
      "    FROM\n",
      "      song_info\n",
      "    WHERE\n",
      "      session_id = 338 AND\n",
      "      item_in_session = 4\n",
      "\n"
     ]
    }
   ],
   "source": [
    "print(select_query_1)"
   ]
  },
  {
   "cell_type": "code",
   "execution_count": 5,
   "metadata": {},
   "outputs": [
    {
     "name": "stdout",
     "output_type": "stream",
     "text": [
      "Faithless Music Matters (Mark Knight Dub) 495.30731201171875\n"
     ]
    }
   ],
   "source": [
    "# Confirm data was inserted\n",
    "rows = session.execute(select_query_1)\n",
    "for (artist, song, length) in rows:\n",
    "    print(artist, song, length)"
   ]
  },
  {
   "cell_type": "markdown",
   "metadata": {},
   "source": [
    "## `users_songs` Table\n",
    "\n",
    "**Query:** Give only the following: name of artist, song (sorted by itemInSession) and user (first and last name) for userid = 10, sessionid = 182"
   ]
  },
  {
   "cell_type": "code",
   "execution_count": 6,
   "metadata": {},
   "outputs": [
    {
     "name": "stdout",
     "output_type": "stream",
     "text": [
      "\n",
      "    SELECT\n",
      "      artist,\n",
      "      song,\n",
      "      first_name,\n",
      "      last_name\n",
      "    FROM\n",
      "      users_songs\n",
      "    WHERE\n",
      "      user_id = 10 AND\n",
      "      session_id = 182\n",
      "\n"
     ]
    }
   ],
   "source": [
    "print(select_query_2)"
   ]
  },
  {
   "cell_type": "code",
   "execution_count": 7,
   "metadata": {},
   "outputs": [
    {
     "name": "stdout",
     "output_type": "stream",
     "text": [
      "Down To The Bone Keep On Keepin' On Sylvie Cruz\n",
      "Three Drives Greece 2000 Sylvie Cruz\n",
      "Sebastien Tellier Kilometer Sylvie Cruz\n",
      "Lonnie Gordon Catch You Baby (Steve Pitron & Max Sanna Radio Edit) Sylvie Cruz\n"
     ]
    }
   ],
   "source": [
    "# Confirm data was inserted\n",
    "rows = session.execute(select_query_2)\n",
    "for (artist, song, first_name, last_name) in rows:\n",
    "    print(artist, song, first_name, last_name)"
   ]
  },
  {
   "cell_type": "markdown",
   "metadata": {},
   "source": [
    "## `user_name` Table\n",
    "\n",
    "**Query:** Give every user name (first and last) in my music app history who listened to the song 'All Hands Against His Own'"
   ]
  },
  {
   "cell_type": "code",
   "execution_count": 8,
   "metadata": {},
   "outputs": [
    {
     "name": "stdout",
     "output_type": "stream",
     "text": [
      "\n",
      "    SELECT\n",
      "      first_name,\n",
      "      last_name\n",
      "    FROM\n",
      "      user_name\n",
      "    WHERE\n",
      "      song = 'All Hands Against His Own'\n",
      "\n"
     ]
    }
   ],
   "source": [
    "print(select_query_3)"
   ]
  },
  {
   "cell_type": "code",
   "execution_count": 9,
   "metadata": {
    "scrolled": true
   },
   "outputs": [
    {
     "name": "stdout",
     "output_type": "stream",
     "text": [
      "Jacqueline Lynch\n",
      "Tegan Levine\n",
      "Sara Johnson\n"
     ]
    }
   ],
   "source": [
    "# Confirm data was inserted\n",
    "rows = session.execute(select_query_3)\n",
    "for (first_name, last_name) in rows:\n",
    "    print(first_name, last_name)"
   ]
  },
  {
   "cell_type": "code",
   "execution_count": 10,
   "metadata": {},
   "outputs": [],
   "source": [
    "# You can also drop the tables if you want\n",
    "for query in drop_table_queries:\n",
    "    session.execute(query)"
   ]
  },
  {
   "cell_type": "code",
   "execution_count": 11,
   "metadata": {},
   "outputs": [],
   "source": [
    "session.shutdown()\n",
    "cluster.shutdown()"
   ]
  },
  {
   "cell_type": "code",
   "execution_count": null,
   "metadata": {},
   "outputs": [],
   "source": []
  }
 ],
 "metadata": {
  "kernelspec": {
   "display_name": "Python 3",
   "language": "python",
   "name": "python3"
  },
  "language_info": {
   "codemirror_mode": {
    "name": "ipython",
    "version": 3
   },
   "file_extension": ".py",
   "mimetype": "text/x-python",
   "name": "python",
   "nbconvert_exporter": "python",
   "pygments_lexer": "ipython3",
   "version": "3.7.4"
  },
  "varInspector": {
   "cols": {
    "lenName": 16,
    "lenType": 16,
    "lenVar": 40
   },
   "kernels_config": {
    "python": {
     "delete_cmd_postfix": "",
     "delete_cmd_prefix": "del ",
     "library": "var_list.py",
     "varRefreshCmd": "print(var_dic_list())"
    },
    "r": {
     "delete_cmd_postfix": ") ",
     "delete_cmd_prefix": "rm(",
     "library": "var_list.r",
     "varRefreshCmd": "cat(var_dic_list()) "
    }
   },
   "types_to_exclude": [
    "module",
    "function",
    "builtin_function_or_method",
    "instance",
    "_Feature"
   ],
   "window_display": false
  }
 },
 "nbformat": 4,
 "nbformat_minor": 2
}
